{
 "cells": [
  {
   "cell_type": "code",
   "execution_count": 1,
   "id": "1e391625",
   "metadata": {},
   "outputs": [],
   "source": [
    "#importing libraries\n",
    "import pandas as pd\n",
    "import nltk\n",
    "import re\n",
    "import numpy as np\n",
    "from pandas import StringDtype\n",
    "from nltk.stem import PorterStemmer\n",
    "from nltk.tokenize import word_tokenize\n",
    "from nltk.corpus import stopwords\n",
    "from sklearn.feature_extraction.text import TfidfVectorizer\n",
    "from sklearn.model_selection import train_test_split\n",
    "from sklearn.svm import SVC\n",
    "from sklearn.metrics import confusion_matrix, accuracy_score,classification_report"
   ]
  },
  {
   "cell_type": "code",
   "execution_count": 2,
   "id": "0f0d9a62",
   "metadata": {},
   "outputs": [],
   "source": [
    "#importing the dataset\n",
    "train=pd.read_csv('train.csv')\n",
    "Xtrain=train.copy()\n",
    "\n"
   ]
  },
  {
   "cell_type": "code",
   "execution_count": 3,
   "id": "343c45ef",
   "metadata": {},
   "outputs": [
    {
     "data": {
      "text/plain": [
       "0         @user when a father is dysfunctional and is s...\n",
       "1        @user @user thanks for #lyft credit i can't us...\n",
       "2                                      bihday your majesty\n",
       "3        #model   i love u take with u all the time in ...\n",
       "4                   factsguide: society now    #motivation\n",
       "                               ...                        \n",
       "31957    ate @user isz that youuu?ðððððð...\n",
       "31958      to see nina turner on the airwaves trying to...\n",
       "31959    listening to sad songs on a monday morning otw...\n",
       "31960    @user #sikh #temple vandalised in in #calgary,...\n",
       "31961                     thank you @user for you follow  \n",
       "Name: tweet, Length: 31962, dtype: string"
      ]
     },
     "execution_count": 3,
     "metadata": {},
     "output_type": "execute_result"
    }
   ],
   "source": [
    "#selecting the columns for train input and labels\n",
    "X1=Xtrain.iloc[:,2]\n",
    "Y1=Xtrain.iloc[:,[1]]\n",
    "\n",
    "X1.astype(\"string\")"
   ]
  },
  {
   "cell_type": "code",
   "execution_count": 4,
   "id": "dc862dbe",
   "metadata": {
    "collapsed": true
   },
   "outputs": [
    {
     "name": "stderr",
     "output_type": "stream",
     "text": [
      "<ipython-input-4-755ea6698574>:2: SettingWithCopyWarning: \n",
      "A value is trying to be set on a copy of a slice from a DataFrame\n",
      "\n",
      "See the caveats in the documentation: https://pandas.pydata.org/pandas-docs/stable/user_guide/indexing.html#returning-a-view-versus-a-copy\n",
      "  X1[i]=re.sub(r\"@[A-Za-z0-9_]+\",\" \",X1[i])\n",
      "<ipython-input-4-755ea6698574>:3: SettingWithCopyWarning: \n",
      "A value is trying to be set on a copy of a slice from a DataFrame\n",
      "\n",
      "See the caveats in the documentation: https://pandas.pydata.org/pandas-docs/stable/user_guide/indexing.html#returning-a-view-versus-a-copy\n",
      "  X1[i]=re.sub(r\"[^a-zA-Z0-9]+\",\" \",X1[i])\n",
      "<ipython-input-4-755ea6698574>:4: SettingWithCopyWarning: \n",
      "A value is trying to be set on a copy of a slice from a DataFrame\n",
      "\n",
      "See the caveats in the documentation: https://pandas.pydata.org/pandas-docs/stable/user_guide/indexing.html#returning-a-view-versus-a-copy\n",
      "  X1[i]=re.sub(r'^https?:\\/\\/.*[\\r\\n]*', ' ',X1[i] , flags=re.MULTILINE)\n"
     ]
    }
   ],
   "source": [
    "for i in range (train.shape[0]):\n",
    "    X1[i]=re.sub(r\"@[A-Za-z0-9_]+\",\" \",X1[i])\n",
    "    X1[i]=re.sub(r\"[^a-zA-Z0-9]+\",\" \",X1[i])\n",
    "    X1[i]=re.sub(r'^https?:\\/\\/.*[\\r\\n]*', ' ',X1[i] , flags=re.MULTILINE)\n",
    "\n"
   ]
  },
  {
   "cell_type": "code",
   "execution_count": 5,
   "id": "3cd74722",
   "metadata": {
    "collapsed": true
   },
   "outputs": [
    {
     "name": "stderr",
     "output_type": "stream",
     "text": [
      "[nltk_data] Downloading package punkt to\n",
      "[nltk_data]     C:\\Users\\pranj\\AppData\\Roaming\\nltk_data...\n",
      "[nltk_data]   Package punkt is already up-to-date!\n"
     ]
    }
   ],
   "source": [
    "nltk.download('punkt')\n",
    "\n",
    "#tokenizer\n",
    "X1=Xtrain.iloc[:,2].apply(lambda x: word_tokenize(x))"
   ]
  },
  {
   "cell_type": "code",
   "execution_count": 6,
   "id": "672fb4d6",
   "metadata": {},
   "outputs": [],
   "source": [
    "#remoing stop words \n",
    "en_stops = set(stopwords.words('english'))\n",
    "en_stops.remove('not')\n",
    "en_stops.remove('nor')\n",
    "en_stops.remove('no')\n",
    "\n",
    "\n",
    "  \n",
    "#stemming\n",
    "ps = PorterStemmer()\n",
    "for j in range(train.shape[0]):\n",
    "    st=[]\n",
    "    st=[word for word in X1[j] if word.lower() not in en_stops]\n",
    "    ft=[]\n",
    "    for w in st:\n",
    "     ft.append(ps.stem(w))\n",
    "    X1[j]=ft"
   ]
  },
  {
   "cell_type": "code",
   "execution_count": 7,
   "id": "fd60c4bb",
   "metadata": {},
   "outputs": [],
   "source": [
    "X_train, X_test, y_train, y_test = train_test_split(X1, Y1, test_size = 0.05)\n",
    "\n",
    "\n",
    "X_train=[\" \".join(review) for review in X_train]\n",
    "X_test=[\" \".join(review) for review in X_test]\n",
    "\n",
    "\n",
    "#vectorizer\n",
    "vectorizer = TfidfVectorizer(max_features=20000)\n",
    "\n",
    "X_train=vectorizer.fit_transform(X_train)\n",
    "X_test=vectorizer.transform(X_test)"
   ]
  },
  {
   "cell_type": "code",
   "execution_count": 8,
   "id": "790dc9d7",
   "metadata": {},
   "outputs": [],
   "source": [
    "classifier = SVC(kernel = 'rbf', random_state = 0)\n",
    "classifier.fit(X_train, y_train.values.ravel())\n",
    "\n",
    "\n",
    "y_pred = classifier.predict(X_test)"
   ]
  },
  {
   "cell_type": "code",
   "execution_count": 9,
   "id": "12a828f0",
   "metadata": {},
   "outputs": [
    {
     "name": "stdout",
     "output_type": "stream",
     "text": [
      "[[1504    3]\n",
      " [  43   49]]\n",
      "0.9712320200125079\n",
      "              precision    recall  f1-score   support\n",
      "\n",
      "           0       0.97      1.00      0.98      1507\n",
      "           1       0.94      0.53      0.68        92\n",
      "\n",
      "    accuracy                           0.97      1599\n",
      "   macro avg       0.96      0.77      0.83      1599\n",
      "weighted avg       0.97      0.97      0.97      1599\n",
      "\n"
     ]
    }
   ],
   "source": [
    "\n",
    "\n",
    "cm = confusion_matrix(y_test, y_pred)\n",
    "print(cm)\n",
    "print(accuracy_score(y_test, y_pred))\n",
    "print(classification_report(y_test,y_pred))"
   ]
  },
  {
   "cell_type": "code",
   "execution_count": null,
   "id": "416194f9",
   "metadata": {},
   "outputs": [],
   "source": []
  }
 ],
 "metadata": {
  "kernelspec": {
   "display_name": "Python 3",
   "language": "python",
   "name": "python3"
  },
  "language_info": {
   "codemirror_mode": {
    "name": "ipython",
    "version": 3
   },
   "file_extension": ".py",
   "mimetype": "text/x-python",
   "name": "python",
   "nbconvert_exporter": "python",
   "pygments_lexer": "ipython3",
   "version": "3.8.8"
  }
 },
 "nbformat": 4,
 "nbformat_minor": 5
}
